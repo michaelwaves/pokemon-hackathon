{
 "cells": [
  {
   "cell_type": "code",
   "execution_count": 1,
   "metadata": {},
   "outputs": [
    {
     "name": "stderr",
     "output_type": "stream",
     "text": [
      "python-dotenv could not parse statement starting at line 4\n",
      "python-dotenv could not parse statement starting at line 6\n",
      "python-dotenv could not parse statement starting at line 7\n"
     ]
    }
   ],
   "source": [
    "from minimal_agent import EmulatorClient\n",
    "from PIL import Image\n",
    "\n",
    "from anthropic import Anthropic\n",
    "from rich.console import Console\n",
    "\n",
    "from morphcloud.api import MorphCloudClient\n",
    "from dotenv import load_dotenv\n",
    "import os\n",
    "\n",
    "from minimal_agent import EmulatorClient\n",
    "load_dotenv()\n",
    "console=Console()\n"
   ]
  },
  {
   "cell_type": "code",
   "execution_count": 2,
   "metadata": {},
   "outputs": [
    {
     "data": {
      "text/html": [
       "<pre style=\"white-space:pre;overflow-x:auto;line-height:normal;font-family:Menlo,'DejaVu Sans Mono',consolas,'Courier New',monospace\">Starting instance from snapshot<span style=\"color: #808000; text-decoration-color: #808000\">...</span>\n",
       "</pre>\n"
      ],
      "text/plain": [
       "Starting instance from snapshot\u001b[33m...\u001b[0m\n"
      ]
     },
     "metadata": {},
     "output_type": "display_data"
    },
    {
     "data": {
      "text/html": [
       "<pre style=\"white-space:pre;overflow-x:auto;line-height:normal;font-family:Menlo,'DejaVu Sans Mono',consolas,'Courier New',monospace\">Waiting for instance to be ready<span style=\"color: #808000; text-decoration-color: #808000\">...</span>\n",
       "</pre>\n"
      ],
      "text/plain": [
       "Waiting for instance to be ready\u001b[33m...\u001b[0m\n"
      ]
     },
     "metadata": {},
     "output_type": "display_data"
    },
    {
     "data": {
      "text/html": [
       "<pre style=\"white-space:pre;overflow-x:auto;line-height:normal;font-family:Menlo,'DejaVu Sans Mono',consolas,'Courier New',monospace\">Pokemon remote desktop available at: <span style=\"color: #0000ff; text-decoration-color: #0000ff; text-decoration: underline\">https://novnc-morphvm-6yupbncf.http.cloud.morph.so/vnc_lite.html</span>\n",
       "</pre>\n"
      ],
      "text/plain": [
       "Pokemon remote desktop available at: \u001b[4;94mhttps://novnc-morphvm-6yupbncf.http.cloud.morph.so/vnc_lite.html\u001b[0m\n"
      ]
     },
     "metadata": {},
     "output_type": "display_data"
    }
   ],
   "source": [
    "\n",
    "\n",
    "# Create the MorphCloud client\n",
    "morph_client = MorphCloudClient(api_key=os.getenv(\"MORPH_API_KEY\"))\n",
    "\n",
    "# Start instance from snapshot\n",
    "console.print(\"Starting instance from snapshot...\")\n",
    "instance = morph_client.instances.start(\n",
    "    snapshot_id=os.getenv(\"SNAPSHOT_ID\"), ttl_seconds=60 * 60 * 24  # 24 hours\n",
    ")\n",
    "\n",
    "# Wait for instance to be ready\n",
    "console.print(\"Waiting for instance to be ready...\")\n",
    "instance.wait_until_ready()\n",
    "\n",
    "# Get the instance URL\n",
    "instance_url = next(\n",
    "    service.url\n",
    "    for service in instance.networking.http_services\n",
    "    if service.name == \"web\"\n",
    ")\n",
    "\n",
    "remote_desktop_url = next(\n",
    "    service.url\n",
    "    for service in instance.networking.http_services\n",
    "    if service.name == \"novnc\"\n",
    ")\n",
    "\n",
    "novnc_url = f\"{remote_desktop_url}/vnc_lite.html\"\n",
    "console.print(f\"Pokemon remote desktop available at: {novnc_url}\")\n"
   ]
  },
  {
   "cell_type": "code",
   "execution_count": 3,
   "metadata": {},
   "outputs": [
    {
     "data": {
      "text/html": [
       "<pre style=\"white-space:pre;overflow-x:auto;line-height:normal;font-family:Menlo,'DejaVu Sans Mono',consolas,'Courier New',monospace\">Instance url at  <span style=\"color: #0000ff; text-decoration-color: #0000ff; text-decoration: underline\">https://web-morphvm-6yupbncf.http.cloud.morph.so</span>\n",
       "</pre>\n"
      ],
      "text/plain": [
       "Instance url at  \u001b[4;94mhttps://web-morphvm-6yupbncf.http.cloud.morph.so\u001b[0m\n"
      ]
     },
     "metadata": {},
     "output_type": "display_data"
    }
   ],
   "source": [
    "#initialize client\n",
    "client = EmulatorClient(instance_url)\n",
    "console.print(f\"Instance url at \",instance_url)"
   ]
  },
  {
   "cell_type": "code",
   "execution_count": 5,
   "metadata": {},
   "outputs": [],
   "source": [
    "image = client.get_screenshot_base64()"
   ]
  },
  {
   "cell_type": "code",
   "execution_count": 4,
   "metadata": {},
   "outputs": [
    {
     "data": {
      "text/plain": [
       "{'collision_map': '+----------+\\n|██████████|\\n|██████████|\\n|··████··██|\\n|··█·██··██|\\n|····↓·S···|\\n|·········█|\\n|··········|\\n|······████|\\n|··········|\\n+----------+\\n\\nLegend:\\n█ - Wall/Obstacle\\n· - Path/Walkable\\nS - Sprite\\n↑/↓/←/→ - Player (facing direction)',\n",
       " 'coordinates': [12, 6],\n",
       " 'game_state': 'Player: CLAUDE\\nRival: WACLAUD\\nMoney: $2586\\nLocation: ROUTE 4\\nCoordinates: (12, 6)\\nValid Moves: down, left, right\\nBadges: BOULDER\\nInventory:\\n  POKé BALL x11\\n  ANTIDOTE x1\\n  POTION x2\\n  TM34 x1\\nDialog: None\\n\\nPokemon Party:\\n\\nN (NIDORAN M):\\nLevel 10 - HP: 29/29\\nTypes: POISON\\n- TACKLE (PP: 35)\\n- LEER (PP: 30)\\n- HORN ATTACK (PP: 25)\\n\\nB (PIDGEY):\\nLevel 12 - HP: 34/34\\nTypes: NORMAL, FLYING\\n- GUST (PP: 35)\\n- SAND ATTACK (PP: 15)\\n- QUICK ATTACK (PP: 30)\\n\\nS (BULBASAUR):\\nLevel 15 - HP: 44/44\\nTypes: GRASS, POISON\\n- TACKLE (PP: 35)\\n- GROWL (PP: 40)\\n- LEECH SEED (PP: 10)\\n- VINE WHIP (PP: 10)\\n\\nP (PIKACHU):\\nLevel 12 - HP: 33/33\\nTypes: ELECTRIC\\n- THUNDERSHOCK (PP: 30)\\n- GROWL (PP: 40)\\n- THUNDER WAVE (PP: 20)\\n',\n",
       " 'valid_moves': ['down', 'left', 'right']}"
      ]
     },
     "execution_count": 4,
     "metadata": {},
     "output_type": "execute_result"
    }
   ],
   "source": [
    "client.get_game_state()"
   ]
  },
  {
   "cell_type": "code",
   "execution_count": 6,
   "metadata": {},
   "outputs": [
    {
     "data": {
      "text/plain": [
       "':\\n\\nN (NIDORAN M):\\nLevel 10 - HP: 29/29\\nTypes: POISON\\n- TACKLE (PP: 35)\\n- LEER (PP: 30)\\n- HORN ATTACK (PP: 25)\\n\\nB (PIDGEY):\\nLevel 12 - HP: 34/34\\nTypes: NORMAL, FLYING\\n- GUST (PP: 35)\\n- SAND ATTACK (PP: 15)\\n- QUICK ATTACK (PP: 30)\\n\\nS (BULBASAUR):\\nLevel 15 - HP: 44/44\\nTypes: GRASS, POISON\\n- TACKLE (PP: 35)\\n- GROWL (PP: 40)\\n- LEECH SEED (PP: 10)\\n- VINE WHIP (PP: 10)\\n\\nP (PIKACHU):\\nLevel 12 - HP: 33/33\\nTypes: ELECTRIC\\n- THUNDERSHOCK (PP: 30)\\n- GROWL (PP: 40)\\n- THUNDER WAVE (PP: 20)\\n'"
      ]
     },
     "execution_count": 6,
     "metadata": {},
     "output_type": "execute_result"
    }
   ],
   "source": [
    "client.get_team().split(\"Pokemon Party\")[1]"
   ]
  },
  {
   "cell_type": "code",
   "execution_count": 7,
   "metadata": {},
   "outputs": [],
   "source": [
    "#stop the instance\n",
    "instance.stop()"
   ]
  },
  {
   "cell_type": "code",
   "execution_count": null,
   "metadata": {},
   "outputs": [],
   "source": [
    "import cv2\n",
    "import numpy as np\n",
    "import base64\n",
    "from io import BytesIO\n",
    "from PIL import Image\n",
    "\n",
    "def decode_base64_image(base64_string):\n",
    "    \"\"\"Decodes a base64-encoded image into an OpenCV image.\"\"\"\n",
    "    image_data = base64.b64decode(base64_string)\n",
    "    image = Image.open(BytesIO(image_data))\n",
    "    return cv2.cvtColor(np.array(image), cv2.COLOR_RGB2BGR)\n",
    "\n",
    "def encode_image_to_base64(image):\n",
    "    \"\"\"Encodes an OpenCV image to a base64 string.\"\"\"\n",
    "    _, buffer = cv2.imencode('.png', image)\n",
    "    return base64.b64encode(buffer).decode('utf-8')\n",
    "\n",
    "def detect_features(image_b64):\n",
    "    \"\"\"Detects doors, caves, and dark areas in an image and overlays highlights.\"\"\"\n",
    "    image = decode_base64_image(image_b64)\n",
    "    gray = cv2.cvtColor(image, cv2.COLOR_BGR2GRAY)\n",
    "    \n",
    "    # Threshold to detect dark areas (caves, shadows, etc.)\n",
    "    _, dark_mask = cv2.threshold(gray, 50, 255, cv2.THRESH_BINARY_INV)\n",
    "    \n",
    "    # Define color ranges for possible doors (brown/wooden) and caves (dark openings)\n",
    "    lower_brown = np.array([10, 50, 50], dtype=np.uint8)\n",
    "    upper_brown = np.array([30, 255, 255], dtype=np.uint8)\n",
    "    \n",
    "    lower_dark = np.array([0, 0, 0], dtype=np.uint8)\n",
    "    upper_dark = np.array([50, 50, 50], dtype=np.uint8)\n",
    "    \n",
    "    hsv = cv2.cvtColor(image, cv2.COLOR_BGR2HSV)\n",
    "    \n",
    "    # Masks for doors and caves\n",
    "    door_mask = cv2.inRange(hsv, lower_brown, upper_brown)\n",
    "    cave_mask = cv2.inRange(image, lower_dark, upper_dark)\n",
    "    \n",
    "    # Find contours for detected regions\n",
    "    contours_dark, _ = cv2.findContours(dark_mask, cv2.RETR_EXTERNAL, cv2.CHAIN_APPROX_SIMPLE)\n",
    "    contours_door, _ = cv2.findContours(door_mask, cv2.RETR_EXTERNAL, cv2.CHAIN_APPROX_SIMPLE)\n",
    "    contours_cave, _ = cv2.findContours(cave_mask, cv2.RETR_EXTERNAL, cv2.CHAIN_APPROX_SIMPLE)\n",
    "    \n",
    "    # Overlay highlights on the original image\n",
    "    highlighted_image = image.copy()\n",
    "    cv2.drawContours(highlighted_image, contours_door, -1, (0, 255, 0), 2)  # Green for doors\n",
    "    cv2.drawContours(highlighted_image, contours_cave, -1, (255, 0, 0), 2)  # Blue for caves\n",
    "    cv2.drawContours(highlighted_image, contours_dark, -1, (0, 0, 255), 2)  # Red for dark areas\n",
    "    \n",
    "    # Encode the image back to base64\n",
    "    highlighted_image_b64 = encode_image_to_base64(highlighted_image)\n",
    "    \n",
    "    return {\n",
    "        \"doors\": len(contours_door),\n",
    "        \"caves\": len(contours_cave),\n",
    "        \"dark_areas\": len(contours_dark),\n",
    "        \"highlighted_image_b64\": highlighted_image_b64\n",
    "    }\n",
    "\n"
   ]
  },
  {
   "cell_type": "code",
   "execution_count": 12,
   "metadata": {},
   "outputs": [
    {
     "data": {
      "text/plain": [
       "{'doors': 0,\n",
       " 'caves': 87,\n",
       " 'dark_areas': 87,\n",
       " 'highlighted_image': 'highlighted_image.png'}"
      ]
     },
     "execution_count": 12,
     "metadata": {},
     "output_type": "execute_result"
    }
   ],
   "source": [
    "image = client.get_screenshot_base64()\n",
    "detect_features(image)"
   ]
  }
 ],
 "metadata": {
  "kernelspec": {
   "display_name": "pokemon-hackathon",
   "language": "python",
   "name": "python3"
  },
  "language_info": {
   "codemirror_mode": {
    "name": "ipython",
    "version": 3
   },
   "file_extension": ".py",
   "mimetype": "text/x-python",
   "name": "python",
   "nbconvert_exporter": "python",
   "pygments_lexer": "ipython3",
   "version": "3.12.9"
  }
 },
 "nbformat": 4,
 "nbformat_minor": 2
}
