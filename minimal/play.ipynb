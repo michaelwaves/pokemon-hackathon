{
 "cells": [
  {
   "cell_type": "code",
   "execution_count": 1,
   "metadata": {},
   "outputs": [
    {
     "name": "stderr",
     "output_type": "stream",
     "text": [
      "python-dotenv could not parse statement starting at line 4\n",
      "python-dotenv could not parse statement starting at line 6\n",
      "python-dotenv could not parse statement starting at line 7\n"
     ]
    }
   ],
   "source": [
    "from minimal_agent import EmulatorClient\n",
    "from PIL import Image\n",
    "\n",
    "from anthropic import Anthropic\n",
    "from rich.console import Console\n",
    "\n",
    "from morphcloud.api import MorphCloudClient\n",
    "from dotenv import load_dotenv\n",
    "import os\n",
    "\n",
    "from minimal_agent import EmulatorClient\n",
    "load_dotenv()\n",
    "console=Console()\n"
   ]
  },
  {
   "cell_type": "code",
   "execution_count": 2,
   "metadata": {},
   "outputs": [
    {
     "data": {
      "text/html": [
       "<pre style=\"white-space:pre;overflow-x:auto;line-height:normal;font-family:Menlo,'DejaVu Sans Mono',consolas,'Courier New',monospace\">Starting instance from snapshot<span style=\"color: #808000; text-decoration-color: #808000\">...</span>\n",
       "</pre>\n"
      ],
      "text/plain": [
       "Starting instance from snapshot\u001b[33m...\u001b[0m\n"
      ]
     },
     "metadata": {},
     "output_type": "display_data"
    },
    {
     "data": {
      "text/html": [
       "<pre style=\"white-space:pre;overflow-x:auto;line-height:normal;font-family:Menlo,'DejaVu Sans Mono',consolas,'Courier New',monospace\">Waiting for instance to be ready<span style=\"color: #808000; text-decoration-color: #808000\">...</span>\n",
       "</pre>\n"
      ],
      "text/plain": [
       "Waiting for instance to be ready\u001b[33m...\u001b[0m\n"
      ]
     },
     "metadata": {},
     "output_type": "display_data"
    },
    {
     "data": {
      "text/html": [
       "<pre style=\"white-space:pre;overflow-x:auto;line-height:normal;font-family:Menlo,'DejaVu Sans Mono',consolas,'Courier New',monospace\">Pokemon remote desktop available at: <span style=\"color: #0000ff; text-decoration-color: #0000ff; text-decoration: underline\">https://novnc-morphvm-w73ffin1.http.cloud.morph.so/vnc_lite.html</span>\n",
       "</pre>\n"
      ],
      "text/plain": [
       "Pokemon remote desktop available at: \u001b[4;94mhttps://novnc-morphvm-w73ffin1.http.cloud.morph.so/vnc_lite.html\u001b[0m\n"
      ]
     },
     "metadata": {},
     "output_type": "display_data"
    }
   ],
   "source": [
    "\n",
    "\n",
    "# Create the MorphCloud client\n",
    "morph_client = MorphCloudClient(api_key=os.getenv(\"MORPH_API_KEY\"))\n",
    "\n",
    "# Start instance from snapshot\n",
    "console.print(\"Starting instance from snapshot...\")\n",
    "instance = morph_client.instances.start(\n",
    "    snapshot_id=os.getenv(\"SNAPSHOT_ID\"), ttl_seconds=60 * 60 * 24  # 24 hours\n",
    ")\n",
    "\n",
    "# Wait for instance to be ready\n",
    "console.print(\"Waiting for instance to be ready...\")\n",
    "instance.wait_until_ready()\n",
    "\n",
    "# Get the instance URL\n",
    "instance_url = next(\n",
    "    service.url\n",
    "    for service in instance.networking.http_services\n",
    "    if service.name == \"web\"\n",
    ")\n",
    "\n",
    "remote_desktop_url = next(\n",
    "    service.url\n",
    "    for service in instance.networking.http_services\n",
    "    if service.name == \"novnc\"\n",
    ")\n",
    "\n",
    "novnc_url = f\"{remote_desktop_url}/vnc_lite.html\"\n",
    "console.print(f\"Pokemon remote desktop available at: {novnc_url}\")\n"
   ]
  },
  {
   "cell_type": "code",
   "execution_count": 3,
   "metadata": {},
   "outputs": [
    {
     "data": {
      "text/html": [
       "<pre style=\"white-space:pre;overflow-x:auto;line-height:normal;font-family:Menlo,'DejaVu Sans Mono',consolas,'Courier New',monospace\">Instance url at  <span style=\"color: #0000ff; text-decoration-color: #0000ff; text-decoration: underline\">https://web-morphvm-w73ffin1.http.cloud.morph.so</span>\n",
       "</pre>\n"
      ],
      "text/plain": [
       "Instance url at  \u001b[4;94mhttps://web-morphvm-w73ffin1.http.cloud.morph.so\u001b[0m\n"
      ]
     },
     "metadata": {},
     "output_type": "display_data"
    }
   ],
   "source": [
    "#initialize client\n",
    "client = EmulatorClient(instance_url)\n",
    "console.print(f\"Instance url at \",instance_url)"
   ]
  },
  {
   "cell_type": "code",
   "execution_count": 4,
   "metadata": {},
   "outputs": [
    {
     "data": {
      "text/plain": [
       "'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'"
      ]
     },
     "execution_count": 4,
     "metadata": {},
     "output_type": "execute_result"
    }
   ],
   "source": [
    "client.get_screenshot_base64()"
   ]
  },
  {
   "cell_type": "code",
   "execution_count": 4,
   "metadata": {},
   "outputs": [
    {
     "data": {
      "text/plain": [
       "{'collision_map': '+----------+\\n|██████████|\\n|██████████|\\n|··████··██|\\n|··█·██··██|\\n|····↓·S···|\\n|·········█|\\n|··········|\\n|······████|\\n|··········|\\n+----------+\\n\\nLegend:\\n█ - Wall/Obstacle\\n· - Path/Walkable\\nS - Sprite\\n↑/↓/←/→ - Player (facing direction)',\n",
       " 'coordinates': [12, 6],\n",
       " 'game_state': 'Player: CLAUDE\\nRival: WACLAUD\\nMoney: $2586\\nLocation: ROUTE 4\\nCoordinates: (12, 6)\\nValid Moves: down, left, right\\nBadges: BOULDER\\nInventory:\\n  POKé BALL x11\\n  ANTIDOTE x1\\n  POTION x2\\n  TM34 x1\\nDialog: None\\n\\nPokemon Party:\\n\\nN (NIDORAN M):\\nLevel 10 - HP: 29/29\\nTypes: POISON\\n- TACKLE (PP: 35)\\n- LEER (PP: 30)\\n- HORN ATTACK (PP: 25)\\n\\nB (PIDGEY):\\nLevel 12 - HP: 34/34\\nTypes: NORMAL, FLYING\\n- GUST (PP: 35)\\n- SAND ATTACK (PP: 15)\\n- QUICK ATTACK (PP: 30)\\n\\nS (BULBASAUR):\\nLevel 15 - HP: 44/44\\nTypes: GRASS, POISON\\n- TACKLE (PP: 35)\\n- GROWL (PP: 40)\\n- LEECH SEED (PP: 10)\\n- VINE WHIP (PP: 10)\\n\\nP (PIKACHU):\\nLevel 12 - HP: 33/33\\nTypes: ELECTRIC\\n- THUNDERSHOCK (PP: 30)\\n- GROWL (PP: 40)\\n- THUNDER WAVE (PP: 20)\\n',\n",
       " 'valid_moves': ['down', 'left', 'right']}"
      ]
     },
     "execution_count": 4,
     "metadata": {},
     "output_type": "execute_result"
    }
   ],
   "source": [
    "client.get_game_state()"
   ]
  },
  {
   "cell_type": "code",
   "execution_count": 6,
   "metadata": {},
   "outputs": [
    {
     "data": {
      "text/plain": [
       "':\\n\\nN (NIDORAN M):\\nLevel 10 - HP: 29/29\\nTypes: POISON\\n- TACKLE (PP: 35)\\n- LEER (PP: 30)\\n- HORN ATTACK (PP: 25)\\n\\nB (PIDGEY):\\nLevel 12 - HP: 34/34\\nTypes: NORMAL, FLYING\\n- GUST (PP: 35)\\n- SAND ATTACK (PP: 15)\\n- QUICK ATTACK (PP: 30)\\n\\nS (BULBASAUR):\\nLevel 15 - HP: 44/44\\nTypes: GRASS, POISON\\n- TACKLE (PP: 35)\\n- GROWL (PP: 40)\\n- LEECH SEED (PP: 10)\\n- VINE WHIP (PP: 10)\\n\\nP (PIKACHU):\\nLevel 12 - HP: 33/33\\nTypes: ELECTRIC\\n- THUNDERSHOCK (PP: 30)\\n- GROWL (PP: 40)\\n- THUNDER WAVE (PP: 20)\\n'"
      ]
     },
     "execution_count": 6,
     "metadata": {},
     "output_type": "execute_result"
    }
   ],
   "source": [
    "client.get_team().split(\"Pokemon Party\")[1]"
   ]
  },
  {
   "cell_type": "code",
   "execution_count": 7,
   "metadata": {},
   "outputs": [],
   "source": [
    "#stop the instance\n",
    "instance.stop()"
   ]
  },
  {
   "cell_type": "code",
   "execution_count": null,
   "metadata": {},
   "outputs": [],
   "source": [
    "import cv2\n",
    "import numpy as np\n",
    "import base64\n",
    "from io import BytesIO\n",
    "from PIL import Image\n",
    "\n",
    "def decode_base64_image(base64_string):\n",
    "    \"\"\"Decodes a base64-encoded image into an OpenCV image.\"\"\"\n",
    "    image_data = base64.b64decode(base64_string)\n",
    "    image = Image.open(BytesIO(image_data))\n",
    "    return cv2.cvtColor(np.array(image), cv2.COLOR_RGB2BGR)\n",
    "\n",
    "def detect_features(image_b64):\n",
    "    \"\"\"Detects doors, caves, and dark areas in an image.\"\"\"\n",
    "    image = decode_base64_image(image_b64)\n",
    "    gray = cv2.cvtColor(image, cv2.COLOR_BGR2GRAY)\n",
    "    \n",
    "    # Threshold to detect dark areas (caves, shadows, etc.)\n",
    "    _, dark_mask = cv2.threshold(gray, 50, 255, cv2.THRESH_BINARY_INV)\n",
    "    \n",
    "    # Define color ranges for possible doors (brown/wooden) and caves (dark openings)\n",
    "    lower_brown = np.array([10, 50, 50], dtype=np.uint8)\n",
    "    upper_brown = np.array([30, 255, 255], dtype=np.uint8)\n",
    "    \n",
    "    lower_dark = np.array([0, 0, 0], dtype=np.uint8)\n",
    "    upper_dark = np.array([50, 50, 50], dtype=np.uint8)\n",
    "    \n",
    "    hsv = cv2.cvtColor(image, cv2.COLOR_BGR2HSV)\n",
    "    \n",
    "    # Masks for doors and caves\n",
    "    door_mask = cv2.inRange(hsv, lower_brown, upper_brown)\n",
    "    cave_mask = cv2.inRange(image, lower_dark, upper_dark)\n",
    "    \n",
    "    # Find contours for detected regions\n",
    "    contours_dark, _ = cv2.findContours(dark_mask, cv2.RETR_EXTERNAL, cv2.CHAIN_APPROX_SIMPLE)\n",
    "    contours_door, _ = cv2.findContours(door_mask, cv2.RETR_EXTERNAL, cv2.CHAIN_APPROX_SIMPLE)\n",
    "    contours_cave, _ = cv2.findContours(cave_mask, cv2.RETR_EXTERNAL, cv2.CHAIN_APPROX_SIMPLE)\n",
    "    \n",
    "    return {\n",
    "        \"doors\": len(contours_door),\n",
    "        \"caves\": len(contours_cave),\n",
    "        \"dark_areas\": len(contours_dark),\n",
    "    }\n",
    "\n",
    "# Example usage:\n",
    "# base64_img = \"your_base64_encoded_image_string_here\"\n",
    "# result = detect_features(base64_img)\n",
    "# print(result)\n"
   ]
  }
 ],
 "metadata": {
  "kernelspec": {
   "display_name": "pokemon-hackathon",
   "language": "python",
   "name": "python3"
  },
  "language_info": {
   "codemirror_mode": {
    "name": "ipython",
    "version": 3
   },
   "file_extension": ".py",
   "mimetype": "text/x-python",
   "name": "python",
   "nbconvert_exporter": "python",
   "pygments_lexer": "ipython3",
   "version": "3.12.9"
  }
 },
 "nbformat": 4,
 "nbformat_minor": 2
}
